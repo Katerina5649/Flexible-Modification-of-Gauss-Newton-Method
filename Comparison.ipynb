{
 "cells": [
  {
   "cell_type": "markdown",
   "metadata": {},
   "source": [
    "## Let's compare Gauss-Newton method and Method of Three Squares"
   ]
  },
  {
   "cell_type": "code",
   "execution_count": 1,
   "metadata": {},
   "outputs": [],
   "source": [
    "import numpy as np\n",
    "from numpy import linalg as lg"
   ]
  },
  {
   "cell_type": "code",
   "execution_count": 2,
   "metadata": {},
   "outputs": [],
   "source": [
    "class Solution(object):\n",
    "    \"\"\"\n",
    "    search solution in L2 norm\n",
    "    \"\"\"\n",
    "    def resolveByModifiedNewton(self, x0, F, J, L,  eps = 10e-7, needInf = False, maxIter = 1000):\n",
    "        \"\"\"\n",
    "        Inputs:\n",
    "        x_0 - start point\n",
    "        Returns :\n",
    "        x - solution of optimization problem\n",
    "        \"\"\"\n",
    "        iterCount = 1\n",
    "        x =  x0 - lg.inv(J(x0) + L/2*lg.inv(J(x0).T)).dot(F(x0)) ## поиск argmin(psi)\n",
    "        while lg.norm(x  - x0) > eps and iterCount < maxIter :\n",
    "            iterCount += 1\n",
    "            x0 = x\n",
    "            x = x0 - lg.inv(J(x0) + L/2*lg.inv(J(x0).T)).dot(F(x0))  ## поиск argmin(psi)\n",
    "        if needInf:\n",
    "            return x, iterCount\n",
    "        return x\n",
    "    \n",
    "    def resolveByThreeSquares(self,x_0 , F, J, L, eps = 10e-7, needInf = False, maxIter = 1000):\n",
    "        \"\"\"\n",
    "        Inputs:\n",
    "        x_0 - start point\n",
    "        Returns :\n",
    "        x - solution of optimization problem\n",
    "        \"\"\"\n",
    "        iterCount = 1\n",
    "        x = x_0 - lg.inv(J(x_0) + L*lg.norm(F(x_0))*lg.inv(J(x_0).T)).dot(F(x_0))  ## поиск argmin(fi)\n",
    "        while lg.norm(x  - x_0) > eps and iterCount < maxIter : \n",
    "            iterCount += 1\n",
    "            x_0 = x\n",
    "            x = x_0 - lg.inv(J(x_0) + L*lg.norm(F(x_0))*lg.inv(J(x_0).T)).dot(F(x_0))## поиск argmin(fi)\n",
    "        if needInf:\n",
    "            return x, iterCount\n",
    "        return x\n",
    "              \n",
    "        \n",
    "        def resolveByStochasticSquares(self,x_0 , F, J, L = 1 , eps = 10e-7, needInf = False, maxIter = 1000):\n",
    "            return 0"
   ]
  },
  {
   "cell_type": "code",
   "execution_count": 3,
   "metadata": {},
   "outputs": [],
   "source": [
    "def J1(x):\n",
    "    J = np.zeros((len(x), len(x)))\n",
    "    J[0][0] =1\n",
    "    for i in range(1,len(x)):\n",
    "        J[i][i] = 1\n",
    "        J[i][i-1] = 4*x[i-1]\n",
    "    return J\n",
    "\n",
    "def F1(x):\n",
    "    F = np.zeros(len(x))\n",
    "    F[0] = x[0] - 1\n",
    "    for i in range(1,len(x)):\n",
    "        F[i] = x[i] - 2*x[i-1]**2 + 1\n",
    "    return F\n",
    "        \n",
    "        \n",
    "def J2(x):\n",
    "    J = np.zeros((len(x), len(x)))\n",
    "    J[0][0] =1\n",
    "    for i in range(1,len(x)):\n",
    "        J[i][i] = 1\n",
    "        J[i][i-1] = np.pi*2*np.sin(x[i-1])*np.cos(x[i-1])\n",
    "    return J     \n",
    "\n",
    "\n",
    "def F2(x):\n",
    "    F = np.zeros(len(x))\n",
    "    F[0] = x[0] - 1\n",
    "    for i in range(1,len(x)):\n",
    "        F[i] = x[i] - 2*np.sin(np.pi*x[i-1]/2)**2 + 1\n",
    "    return F"
   ]
  },
  {
   "cell_type": "markdown",
   "metadata": {},
   "source": [
    "### Testing F1"
   ]
  },
  {
   "cell_type": "code",
   "execution_count": 4,
   "metadata": {},
   "outputs": [
    {
     "name": "stderr",
     "output_type": "stream",
     "text": [
      "/opt/anaconda3/lib/python3.7/site-packages/ipykernel_launcher.py:14: DeprecationWarning: time.clock has been deprecated in Python 3.3 and will be removed from Python 3.8: use time.perf_counter or time.process_time instead\n",
      "  \n",
      "/opt/anaconda3/lib/python3.7/site-packages/ipykernel_launcher.py:16: DeprecationWarning: time.clock has been deprecated in Python 3.3 and will be removed from Python 3.8: use time.perf_counter or time.process_time instead\n",
      "  app.launch_new_instance()\n",
      "/opt/anaconda3/lib/python3.7/site-packages/ipykernel_launcher.py:20: DeprecationWarning: time.clock has been deprecated in Python 3.3 and will be removed from Python 3.8: use time.perf_counter or time.process_time instead\n",
      "/opt/anaconda3/lib/python3.7/site-packages/ipykernel_launcher.py:22: DeprecationWarning: time.clock has been deprecated in Python 3.3 and will be removed from Python 3.8: use time.perf_counter or time.process_time instead\n"
     ]
    }
   ],
   "source": [
    "import time\n",
    "\n",
    "sol = Solution()\n",
    "\n",
    "timeN = []\n",
    "timeT = []\n",
    "iterT = []\n",
    "iterN = []\n",
    "maxSTEP = 11\n",
    "for i in range(1,maxSTEP):\n",
    "    #print(i)\n",
    "    x_0 = np.ones(i)\n",
    "    x_0[0] = -1\n",
    "    t = time.clock()\n",
    "    x_n, it = sol.resolveByModifiedNewton(x_0,F2, J2, 90, eps = 10e-3, needInf = True )\n",
    "    timeN += [time.clock() - t]\n",
    "    iterN += [it]\n",
    "    #print(\"timeN : \" + str(timeN[-1]) + \"  iterN : \" + str(iterN[-1]))\n",
    "    \n",
    "    t = time.clock()\n",
    "    x_t, it = sol.resolveByThreeSquares(x_0,F2, J2, 90, eps = 10e-3, needInf = True)\n",
    "    timeT += [time.clock() - t]\n",
    "    iterT += [it]\n",
    "    #print(\"timeT : \" + str(timeT[-1]) + \"  iterT : \" + str(iterT[-1]))\n",
    "    \n"
   ]
  },
  {
   "cell_type": "markdown",
   "metadata": {},
   "source": [
    "## Iterations"
   ]
  },
  {
   "cell_type": "code",
   "execution_count": 5,
   "metadata": {},
   "outputs": [
    {
     "data": {
      "text/plain": [
       "Text(0.5, 1.0, 'plot of iterations versus function dimension')"
      ]
     },
     "execution_count": 5,
     "metadata": {},
     "output_type": "execute_result"
    }
   ],
   "source": [
    "import matplotlib.pyplot as plt\n",
    "ax = plt.gca()\n",
    "ax.plot(range(1,maxSTEP), iterN, 'rx', range(1,maxSTEP), iterT, 'b+', linestyle='solid')\n",
    "lgnd = ax.legend(['Gauss-Newton', 'ThreeSquares'], loc='upper center', shadow=True)\n",
    "ax.set_xlabel('n')\n",
    "ax.set_ylabel('iterations')\n",
    "ax.set_title('plot of iterations versus function dimension')"
   ]
  },
  {
   "cell_type": "markdown",
   "metadata": {},
   "source": [
    "## Time"
   ]
  },
  {
   "cell_type": "code",
   "execution_count": 6,
   "metadata": {},
   "outputs": [
    {
     "data": {
      "text/plain": [
       "Text(0.5, 1.0, 'plot of time versus function dimension')"
      ]
     },
     "execution_count": 6,
     "metadata": {},
     "output_type": "execute_result"
    },
    {
     "data": {
      "image/png": "[encoded data removed]",
      "text/plain": [
       "<Figure size 432x288 with 1 Axes>"
      ]
     },
     "metadata": {
      "needs_background": "light"
     },
     "output_type": "display_data"
    }
   ],
   "source": [
    "ax = plt.gca()\n",
    "ax.plot(range(1,maxSTEP), timeN, 'rx', range(1,maxSTEP), timeT, 'b+', linestyle='solid')\n",
    "lgnd = ax.legend(['Gauss-Newton', 'ThreeSquares'], loc='upper center', shadow=True)\n",
    "ax.set_xlabel('n')\n",
    "ax.set_ylabel('time')\n",
    "ax.set_title('plot of time versus function dimension')"
   ]
  },
  {
   "cell_type": "markdown",
   "metadata": {},
   "source": [
    "### Testing F2"
   ]
  },
  {
   "cell_type": "code",
   "execution_count": 7,
   "metadata": {},
   "outputs": [
    {
     "name": "stderr",
     "output_type": "stream",
     "text": [
      "/opt/anaconda3/lib/python3.7/site-packages/ipykernel_launcher.py:13: DeprecationWarning: time.clock has been deprecated in Python 3.3 and will be removed from Python 3.8: use time.perf_counter or time.process_time instead\n",
      "  del sys.path[0]\n",
      "/opt/anaconda3/lib/python3.7/site-packages/ipykernel_launcher.py:15: DeprecationWarning: time.clock has been deprecated in Python 3.3 and will be removed from Python 3.8: use time.perf_counter or time.process_time instead\n",
      "  from ipykernel import kernelapp as app\n",
      "/opt/anaconda3/lib/python3.7/site-packages/ipykernel_launcher.py:19: DeprecationWarning: time.clock has been deprecated in Python 3.3 and will be removed from Python 3.8: use time.perf_counter or time.process_time instead\n",
      "/opt/anaconda3/lib/python3.7/site-packages/ipykernel_launcher.py:21: DeprecationWarning: time.clock has been deprecated in Python 3.3 and will be removed from Python 3.8: use time.perf_counter or time.process_time instead\n"
     ]
    }
   ],
   "source": [
    "import time\n",
    "sol = Solution()\n",
    "\n",
    "timeN = []\n",
    "timeT = []\n",
    "iterT = []\n",
    "iterN = []\n",
    "maxSTEP = 11\n",
    "for i in range(1,maxSTEP):\n",
    "    #print(i)\n",
    "    x_0 = np.ones(i)\n",
    "    x_0[0] = -1\n",
    "    t = time.clock()\n",
    "    x_n, it = sol.resolveByModifiedNewton(x_0,F1, J1, 90, eps = 10e-3, needInf = True )\n",
    "    timeN += [time.clock() - t]\n",
    "    iterN += [it]\n",
    "    #print(\"timeN : \" + str(timeN[-1]) + \"  iterN : \" + str(iterN[-1]))\n",
    "    \n",
    "    t = time.clock()\n",
    "    x_t, it = sol.resolveByThreeSquares(x_0,F1, J1, 90, eps = 10e-3, needInf = True)\n",
    "    timeT += [time.clock() - t]\n",
    "    iterT += [it]\n",
    "    #print(\"timeT : \" + str(timeT[-1]) + \"  iterT : \" + str(iterT[-1]))\n",
    "    "
   ]
  },
  {
   "cell_type": "markdown",
   "metadata": {},
   "source": [
    "## Iterations"
   ]
  },
  {
   "cell_type": "code",
   "execution_count": 8,
   "metadata": {},
   "outputs": [
    {
     "data": {
      "text/plain": [
       "Text(0.5, 1.0, 'plot of iterations versus function dimension')"
      ]
     },
     "execution_count": 8,
     "metadata": {},
     "output_type": "execute_result"
    },
    {
     "data": {
      "image/png": "[encoded data removed]",
      "text/plain": [
       "<Figure size 432x288 with 1 Axes>"
      ]
     },
     "metadata": {
      "needs_background": "light"
     },
     "output_type": "display_data"
    }
   ],
   "source": [
    "import matplotlib.pyplot as plt\n",
    "ax = plt.gca()\n",
    "ax.plot(range(1,maxSTEP), iterN, 'rx', range(1,maxSTEP), iterT, 'b+', linestyle='solid')\n",
    "lgnd = ax.legend(['Gauss-Newton', 'ThreeSquares'], loc='upper center', shadow=True)\n",
    "ax.set_xlabel('n')\n",
    "ax.set_ylabel('iterations')\n",
    "ax.set_title('plot of iterations versus function dimension')"
   ]
  },
  {
   "cell_type": "markdown",
   "metadata": {},
   "source": [
    "## Time"
   ]
  },
  {
   "cell_type": "code",
   "execution_count": 9,
   "metadata": {},
   "outputs": [
    {
     "data": {
      "text/plain": [
       "Text(0.5, 1.0, 'plot of time versus function dimension')"
      ]
     },
     "execution_count": 9,
     "metadata": {},
     "output_type": "execute_result"
    },
    {
     "data": {
      "image/png": "[encoded data removed]",
      "text/plain": [
       "<Figure size 432x288 with 1 Axes>"
      ]
     },
     "metadata": {
      "needs_background": "light"
     },
     "output_type": "display_data"
    }
   ],
   "source": [
    "ax = plt.gca()\n",
    "ax.plot(range(1,maxSTEP), timeN, 'rx', range(1,maxSTEP), timeT, 'b+', linestyle='solid')\n",
    "lgnd = ax.legend(['Gauss-Newton', 'ThreeSquares'], loc='upper center', shadow=True)\n",
    "ax.set_xlabel('n')\n",
    "ax.set_ylabel('time')\n",
    "ax.set_title('plot of time versus function dimension')"
   ]
  },
  {
   "cell_type": "code",
   "execution_count": null,
   "metadata": {},
   "outputs": [],
   "source": []
  }
 ],
 "metadata": {
  "kernelspec": {
   "display_name": "Python 3",
   "language": "python",
   "name": "python3"
  },
  "language_info": {
   "codemirror_mode": {
    "name": "ipython",
    "version": 3
   },
   "file_extension": ".py",
   "mimetype": "text/x-python",
   "name": "python",
   "nbconvert_exporter": "python",
   "pygments_lexer": "ipython3",
   "version": "3.7.4"
  }
 },
 "nbformat": 4,
 "nbformat_minor": 2
}
